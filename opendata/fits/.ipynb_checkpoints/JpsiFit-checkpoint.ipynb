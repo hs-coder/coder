{
 "cells": [
  {
   "cell_type": "markdown",
   "metadata": {},
   "source": [
    "<img src=\"http://files.oproject.org/img/HeaderOpenData.png\">\n",
    "\n",
    "# Import required modules"
   ]
  },
  {
   "cell_type": "code",
   "execution_count": 1,
   "metadata": {
    "collapsed": false
   },
   "outputs": [
    {
     "data": {
      "application/javascript": [
       "\n",
       "require(['notebook'],\n",
       "  function() {\n",
       "    IPython.CodeCell.config_defaults.highlight_modes['magic_text/x-c++src'] = {'reg':[/^%%cpp/]};\n",
       "    console.log(\"JupyROOT - %%cpp magic configured\");\n",
       "  }\n",
       ");\n"
      ]
     },
     "metadata": {},
     "output_type": "display_data"
    },
    {
     "name": "stdout",
     "output_type": "stream",
     "text": [
      "Welcome to JupyROOT 6.07/07\n"
     ]
    }
   ],
   "source": [
    "from ROOT import TFile, TCanvas, TH1F, TLorentzVector\n",
    "%jsroot on"
   ]
  },
  {
   "cell_type": "markdown",
   "metadata": {},
   "source": [
    "# Reading data from ROOT file in a Tree"
   ]
  },
  {
   "cell_type": "code",
   "execution_count": 2,
   "metadata": {
    "collapsed": false
   },
   "outputs": [],
   "source": [
    "file = TFile(\"../data/Dimuons.root\",\"READ\");"
   ]
  },
  {
   "cell_type": "markdown",
   "metadata": {},
   "source": [
    "## Declare Histograms"
   ]
  },
  {
   "cell_type": "code",
   "execution_count": null,
   "metadata": {
    "collapsed": false
   },
   "outputs": [],
   "source": [
    "Jpsi = TH1F(\"Jpsi\",\"#mu#mu mass;#mu#mu mass [GeV];Events\", 1000, 2, 3.5)"
   ]
  },
  {
   "cell_type": "markdown",
   "metadata": {
    "collapsed": true
   },
   "source": [
    "# Compute Invariant Mass of J/$\\psi$"
   ]
  },
  {
   "cell_type": "code",
   "execution_count": null,
   "metadata": {
    "collapsed": false
   },
   "outputs": [],
   "source": [
    "for dimu in file.Dimuons:\n",
    "\n",
    "    if dimu.Muon1_Global and dimu.Muon2_Global:     \n",
    "    \n",
    "        muon1 = TLorentzVector(dimu.Muon1_Px, dimu.Muon1_Py, dimu.Muon1_Pz, dimu.Muon1_Energy)\n",
    "    \n",
    "        muon2 = TLorentzVector(dimu.Muon2_Px, dimu.Muon2_Py, dimu.Muon2_Pz, dimu.Muon2_Energy)\n",
    "    \n",
    "        InvariantMass = (muon1 + muon2).M() \n",
    "        \n",
    "        if InvariantMass > 2.0 and InvariantMass < 4.0:\n",
    "\n",
    "            Jpsi.Fill(InvariantMass)"
   ]
  },
  {
   "cell_type": "markdown",
   "metadata": {},
   "source": [
    "## Fitting the J/$\\psi$ Peak\n",
    "The options for the fit are:<br>\n",
    "“R” Use the range specified in the function range.<br>\n",
    "“+” Add this new fitted function to the list of fitted functions (by default, the previous function is deleted and only the last one is kept)"
   ]
  },
  {
   "cell_type": "code",
   "execution_count": null,
   "metadata": {
    "collapsed": false
   },
   "outputs": [],
   "source": [
    "from ROOT import TF1, kGreen, kRed, Math\n",
    "\n",
    "Canvas = TCanvas()\n",
    "\n",
    "Gaussian = TF1(\"Gaussian\",\"gaus\", 3.03, 3.16)\n",
    "Background  = TF1(\"Background\",\"pol1\", 2, 3.5)\n",
    "\n",
    "#Math.MinimizerOptions.SetDefaultMinimizer(\"GSLSimAn\") #Simulated Annealing Algorithm from Gnu Scientific Library\n",
    "\n",
    "Gaussian.SetLineColor(kRed)\n",
    "Background.SetLineColor(kGreen)\n",
    "\n",
    "Jpsi.Fit(Gaussian,\"R\")\n",
    "Jpsi.Fit(Background,\"R+\")\n",
    "\n",
    "Canvas.Draw()"
   ]
  },
  {
   "cell_type": "code",
   "execution_count": null,
   "metadata": {
    "collapsed": true
   },
   "outputs": [],
   "source": []
  },
  {
   "cell_type": "code",
   "execution_count": null,
   "metadata": {
    "collapsed": true
   },
   "outputs": [],
   "source": []
  }
 ],
 "metadata": {
  "kernelspec": {
   "display_name": "Python 2",
   "language": "python",
   "name": "python2"
  },
  "language_info": {
   "codemirror_mode": {
    "name": "ipython",
    "version": 2
   },
   "file_extension": ".py",
   "mimetype": "text/x-python",
   "name": "python",
   "nbconvert_exporter": "python",
   "pygments_lexer": "ipython2",
   "version": "2.7.9"
  }
 },
 "nbformat": 4,
 "nbformat_minor": 0
}
