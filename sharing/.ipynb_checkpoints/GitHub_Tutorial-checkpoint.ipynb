{
 "cells": [
  {
   "cell_type": "markdown",
   "metadata": {
    "collapsed": true
   },
   "source": [
    "<img src=\"http://files.oproject.org/img/HeaderOpenData.png\">\n",
    "<br>\n",
    "<img src=\"http://opendigitalscience.eu/wp-content/uploads/2015/09/github-logo.png\"  width=\"40%\" height=\"40%\">\n",
    "\n",
    "# Example #7: Sharing the Notebooks\n",
    "\n",
    "Github is a collaborative development platform that we will be using\n",
    "for this tutorial.<br>\n",
    "Please create a free account at\n",
    "https://github.com/join?source=header-home <br>\n",
    "\n",
    "## Create New Github Repository\n",
    "\n",
    "* In the upper right corner, next to your avatar, click  and then select New repository.\n",
    "* Name your repository example: hello-world.\n",
    "* Write a short description.\n",
    "* Select Initialize this repository with a README.\n",
    "\n",
    "<img src=\"https://guides.github.com/activities/hello-world/create-new-repo.png\"/>"
   ]
  },
  {
   "cell_type": "code",
   "execution_count": 14,
   "metadata": {
    "collapsed": false
   },
   "outputs": [
    {
     "name": "stdout",
     "output_type": "stream",
     "text": [
      "Cloning into 'hello-world'...\r\n",
      "remote: Counting objects: 9, done.        \r\n",
      "remote: Compressing objects:  16% (1/6)           \r",
      "remote: Compressing objects:  33% (2/6)           \r",
      "remote: Compressing objects:  50% (3/6)           \r",
      "remote: Compressing objects:  66% (4/6)           \r",
      "remote: Compressing objects:  83% (5/6)           \r",
      "remote: Compressing objects: 100% (6/6)           \r",
      "remote: Compressing objects: 100% (6/6), done.        \r\n",
      "Unpacking objects:  11% (1/9)   \r",
      "Unpacking objects:  22% (2/9)   \r",
      "Unpacking objects:  33% (3/9)   \r",
      "remote: Total 9 (delta 0), reused 6 (delta 0), pack-reused 0        \r\n",
      "Unpacking objects:  44% (4/9)   \r",
      "Unpacking objects:  55% (5/9)   \r",
      "Unpacking objects:  66% (6/9)   \r",
      "Unpacking objects:  77% (7/9)   \r",
      "Unpacking objects:  88% (8/9)   \r",
      "Unpacking objects: 100% (9/9)   \r",
      "Unpacking objects: 100% (9/9), done.\r\n",
      "Checking connectivity... done.\r\n"
     ]
    }
   ],
   "source": [
    "git clone https://github.com/sergeitest/hello-world.git"
   ]
  },
  {
   "cell_type": "markdown",
   "metadata": {},
   "source": [
    "## Move to the Local Repository"
   ]
  },
  {
   "cell_type": "code",
   "execution_count": 15,
   "metadata": {
    "collapsed": false
   },
   "outputs": [
    {
     "name": "stdout",
     "output_type": "stream",
     "text": []
    }
   ],
   "source": [
    "cd hello-world"
   ]
  },
  {
   "cell_type": "markdown",
   "metadata": {},
   "source": [
    "## Copy Notebook to Local Repository"
   ]
  },
  {
   "cell_type": "code",
   "execution_count": 16,
   "metadata": {
    "collapsed": false
   },
   "outputs": [
    {
     "name": "stdout",
     "output_type": "stream",
     "text": []
    }
   ],
   "source": [
    "cp /home/user1/opendata/First_Example_Dimuons.ipynb ."
   ]
  },
  {
   "cell_type": "markdown",
   "metadata": {},
   "source": [
    "## List Contents of Repository"
   ]
  },
  {
   "cell_type": "code",
   "execution_count": 17,
   "metadata": {
    "collapsed": false
   },
   "outputs": [
    {
     "name": "stdout",
     "output_type": "stream",
     "text": [
      "data  Dimuons.root  Dockerfile\tFirst_Example_Dimuons.ipynb  README.md\r\n"
     ]
    }
   ],
   "source": [
    "ls"
   ]
  },
  {
   "cell_type": "markdown",
   "metadata": {},
   "source": [
    "## Create a Directory for Data"
   ]
  },
  {
   "cell_type": "code",
   "execution_count": 18,
   "metadata": {
    "collapsed": false
   },
   "outputs": [
    {
     "name": "stdout",
     "output_type": "stream",
     "text": [
      "mkdir: no se puede crear el directorio «data»: El fichero ya existe\r\n"
     ]
    }
   ],
   "source": [
    "mkdir data"
   ]
  },
  {
   "cell_type": "markdown",
   "metadata": {},
   "source": [
    "## Copy Data File into Data Directory"
   ]
  },
  {
   "cell_type": "code",
   "execution_count": 19,
   "metadata": {
    "collapsed": false
   },
   "outputs": [
    {
     "name": "stdout",
     "output_type": "stream",
     "text": []
    }
   ],
   "source": [
    "cp  /home/user1/opendata/data/Dimuons.root data/"
   ]
  },
  {
   "cell_type": "markdown",
   "metadata": {},
   "source": [
    "## Docker\n",
    "\n",
    "<img src=\"https://www.docker.com/sites/all/themes/docker/assets/images/Logo-Docker.svg\"/>\n",
    "\n",
    "**What is Docker?** <br>\n",
    "Docker allows you to package an application with everything it needs to run so that it will always run the same regardless of environment https://www.docker.com/what-docker\n",
    "\n",
    "Download the pre-configure dockerfile  to install ROOT in the virtual machine <br>"
   ]
  },
  {
   "cell_type": "markdown",
   "metadata": {},
   "source": [
    "## Download a Dockerfile for Our Application"
   ]
  },
  {
   "cell_type": "code",
   "execution_count": 20,
   "metadata": {
    "collapsed": false
   },
   "outputs": [
    {
     "name": "stdout",
     "output_type": "stream",
     "text": []
    }
   ],
   "source": [
    "cp /home/user1/sharing/Dockerfile ."
   ]
  },
  {
   "cell_type": "markdown",
   "metadata": {},
   "source": [
    "## Add New Notebook(s) to git Workspace"
   ]
  },
  {
   "cell_type": "code",
   "execution_count": 21,
   "metadata": {
    "collapsed": false
   },
   "outputs": [
    {
     "name": "stdout",
     "output_type": "stream",
     "text": []
    }
   ],
   "source": [
    "git add *"
   ]
  },
  {
   "cell_type": "markdown",
   "metadata": {},
   "source": [
    "## Commit Changes"
   ]
  },
  {
   "cell_type": "code",
   "execution_count": 22,
   "metadata": {
    "collapsed": false
   },
   "outputs": [
    {
     "name": "stdout",
     "output_type": "stream",
     "text": []
    }
   ],
   "source": [
    "git config --global user.name \"Firstname Lastname\"\n",
    "git config --global user.email \"your_email@youremail.com\""
   ]
  },
  {
   "cell_type": "markdown",
   "metadata": {},
   "source": [
    "-a all changes <br>\n",
    "-m message <br>"
   ]
  },
  {
   "cell_type": "code",
   "execution_count": 23,
   "metadata": {
    "collapsed": false
   },
   "outputs": [
    {
     "name": "stdout",
     "output_type": "stream",
     "text": [
      "On branch master\r\n",
      "Your branch is up-to-date with 'origin/master'.\r\n",
      "nothing to commit, working directory clean\r\n"
     ]
    }
   ],
   "source": [
    "git commit -a -m\"My first commit\""
   ]
  },
  {
   "cell_type": "markdown",
   "metadata": {},
   "source": [
    "## Upload Your Code (Notebook) to Github\n",
    "\n",
    "Now open a new terminal and execute a command:\n",
    "\n",
    "```bash\n",
    "cd sharing/hello-world\n",
    "git push origin master\n",
    "```\n",
    "You can check your files in http://github.com/username/repo-name\n",
    "\n",
    "\n",
    "## Executing Notebooks with Binder\n",
    "<img src=\"http://mybinder.org/images/logo.svg\"/>\n",
    "Binder is web-based platform that allows execution of Jupyter Notebooks online\n",
    "Please go to http://mybinder.org/\n",
    "\n",
    "* Provide your github repository.\n",
    "* Select a Dockerfile\n",
    "* Click make my binder.\n",
    "\n",
    "It can take a little while to complete, you can enjoy a coffee break while your binder is deployed."
   ]
  },
  {
   "cell_type": "code",
   "execution_count": null,
   "metadata": {
    "collapsed": true
   },
   "outputs": [],
   "source": []
  }
 ],
 "metadata": {
  "kernelspec": {
   "display_name": "Bash",
   "language": "bash",
   "name": "bash"
  },
  "language_info": {
   "codemirror_mode": "shell",
   "file_extension": ".sh",
   "mimetype": "text/x-sh",
   "name": "bash"
  }
 },
 "nbformat": 4,
 "nbformat_minor": 0
}
