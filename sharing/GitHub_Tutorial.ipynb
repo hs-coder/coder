{
 "cells": [
  {
   "cell_type": "markdown",
   "metadata": {
    "collapsed": true
   },
   "source": [
    "<img src=\"http://files.oproject.org/img/HeaderOpenData.png\">\n",
    "<br>\n",
    "<img src=\"http://opendigitalscience.eu/wp-content/uploads/2015/09/github-logo.png\"  width=\"40%\" height=\"40%\">\n",
    "\n",
    "# Example #7: Sharing the Notebooks\n",
    "\n",
    "Github is a collaborative development platform that we will be using\n",
    "for this tutorial.<br>\n",
    "Please create a free account at\n",
    "https://github.com/join?source=header-home <br>\n",
    "\n",
    "## Create New Github Repository\n",
    "\n",
    "* In the upper right corner, next to your avatar, click  and then select New repository.\n",
    "* Name your repository example: hello-world.\n",
    "* Write a short description.\n",
    "* Select Initialize this repository with a README.\n",
    "\n",
    "<img src=\"https://guides.github.com/activities/hello-world/create-new-repo.png\"/>"
   ]
  },
  {
   "cell_type": "code",
   "execution_count": 6,
   "metadata": {
    "collapsed": false
   },
   "outputs": [
    {
     "name": "stdout",
     "output_type": "stream",
     "text": [
      "Cloning into 'hello-world'...\r\n",
      "remote: Counting objects: 16, done.        \r\n",
      "remote: Compressing objects:   7% (1/13)           \r",
      "remote: Compressing objects:  15% (2/13)           \r",
      "remote: Compressing objects:  23% (3/13)           \r",
      "remote: Compressing objects:  30% (4/13)           \r",
      "remote: Compressing objects:  38% (5/13)           \r",
      "remote: Compressing objects:  46% (6/13)           \r",
      "remote: Compressing objects:  53% (7/13)           \r",
      "remote: Compressing objects:  61% (8/13)           \r",
      "remote: Compressing objects:  69% (9/13)           \r",
      "remote: Compressing objects:  76% (10/13)           \r",
      "remote: Compressing objects:  84% (11/13)           \r",
      "remote: Compressing objects:  92% (12/13)           \r",
      "remote: Compressing objects: 100% (13/13)           \r",
      "remote: Compressing objects: 100% (13/13), done.        \r\n",
      "Unpacking objects:   6% (1/16)   \r",
      "Unpacking objects:  12% (2/16)   \r",
      "Unpacking objects:  18% (3/16)   \r",
      "Unpacking objects:  25% (4/16)   \r",
      "Unpacking objects:  31% (5/16)   \r",
      "Unpacking objects:  37% (6/16)   \r",
      "Unpacking objects:  43% (7/16)   \r",
      "Unpacking objects:  50% (8/16)   \r",
      "Unpacking objects:  56% (9/16)   \r",
      "Unpacking objects:  62% (10/16)   \r",
      "remote: Total 16 (delta 3), reused 6 (delta 0), pack-reused 0        \r\n",
      "Unpacking objects:  68% (11/16)   \r",
      "Unpacking objects:  75% (12/16)   \r",
      "Unpacking objects:  81% (13/16)   \r",
      "Unpacking objects:  87% (14/16)   \r",
      "Unpacking objects:  93% (15/16)   \r",
      "Unpacking objects: 100% (16/16)   \r",
      "Unpacking objects: 100% (16/16), done.\r\n",
      "Checking connectivity... done.\r\n"
     ]
    }
   ],
   "source": [
    "git clone https://github.com/sergeitest/hello-world.git"
   ]
  },
  {
   "cell_type": "markdown",
   "metadata": {},
   "source": [
    "## Move to the Local Repository"
   ]
  },
  {
   "cell_type": "code",
   "execution_count": 7,
   "metadata": {
    "collapsed": false
   },
   "outputs": [
    {
     "name": "stdout",
     "output_type": "stream",
     "text": []
    }
   ],
   "source": [
    "cd hello-world"
   ]
  },
  {
   "cell_type": "markdown",
   "metadata": {},
   "source": [
    "## Copy Notebook to Local Repository"
   ]
  },
  {
   "cell_type": "code",
   "execution_count": 8,
   "metadata": {
    "collapsed": false
   },
   "outputs": [
    {
     "name": "stdout",
     "output_type": "stream",
     "text": []
    }
   ],
   "source": [
    "cp /home/user1/opendata/First_Example_Dimuons.ipynb ."
   ]
  },
  {
   "cell_type": "markdown",
   "metadata": {},
   "source": [
    "## List Contents of Repository"
   ]
  },
  {
   "cell_type": "code",
   "execution_count": 9,
   "metadata": {
    "collapsed": false
   },
   "outputs": [
    {
     "name": "stdout",
     "output_type": "stream",
     "text": [
      "First_Example_Dimuons.ipynb  README.md\r\n"
     ]
    }
   ],
   "source": [
    "ls"
   ]
  },
  {
   "cell_type": "markdown",
   "metadata": {},
   "source": [
    "## Create a Directory for Data"
   ]
  },
  {
   "cell_type": "code",
   "execution_count": 10,
   "metadata": {
    "collapsed": false
   },
   "outputs": [
    {
     "name": "stdout",
     "output_type": "stream",
     "text": []
    }
   ],
   "source": [
    "mkdir data"
   ]
  },
  {
   "cell_type": "markdown",
   "metadata": {},
   "source": [
    "## Copy Data File into Data Directory"
   ]
  },
  {
   "cell_type": "code",
   "execution_count": 11,
   "metadata": {
    "collapsed": false
   },
   "outputs": [
    {
     "name": "stdout",
     "output_type": "stream",
     "text": []
    }
   ],
   "source": [
    "cp  /home/user1/opendata/data/Dimuons.root data/"
   ]
  },
  {
   "cell_type": "markdown",
   "metadata": {},
   "source": [
    "### Docker\n",
    "\n",
    "<img src=\"https://www.docker.com/sites/all/themes/docker/assets/images/Logo-Docker.svg\"/>\n",
    "\n",
    "Docker allows you to package an application with everything it needs to run so that it will always run the same regardless of environment https://www.docker.com/what-docker\n",
    "\n",
    "Download the pre-configure dockerfile  to install ROOT in the virtual machine <br>"
   ]
  },
  {
   "cell_type": "markdown",
   "metadata": {},
   "source": [
    "## Copy a Dockerfile for Our Application"
   ]
  },
  {
   "cell_type": "code",
   "execution_count": 12,
   "metadata": {
    "collapsed": false
   },
   "outputs": [
    {
     "name": "stdout",
     "output_type": "stream",
     "text": []
    }
   ],
   "source": [
    "cp /home/user1/sharing/Dockerfile ."
   ]
  },
  {
   "cell_type": "markdown",
   "metadata": {},
   "source": [
    "## Add New Notebook(s) to git Workspace"
   ]
  },
  {
   "cell_type": "code",
   "execution_count": 13,
   "metadata": {
    "collapsed": false
   },
   "outputs": [
    {
     "name": "stdout",
     "output_type": "stream",
     "text": []
    }
   ],
   "source": [
    "git add *"
   ]
  },
  {
   "cell_type": "markdown",
   "metadata": {},
   "source": [
    "## Commit Changes"
   ]
  },
  {
   "cell_type": "code",
   "execution_count": 14,
   "metadata": {
    "collapsed": false
   },
   "outputs": [
    {
     "name": "stdout",
     "output_type": "stream",
     "text": []
    }
   ],
   "source": [
    "git config --global user.name \"Sergei Gleyzer\"\n",
    "git config --global user.email \"Sergei.Gleyzer@cern.ch\""
   ]
  },
  {
   "cell_type": "markdown",
   "metadata": {},
   "source": [
    "-a all changes <br>\n",
    "-m message <br>"
   ]
  },
  {
   "cell_type": "code",
   "execution_count": 15,
   "metadata": {
    "collapsed": false
   },
   "outputs": [
    {
     "name": "stdout",
     "output_type": "stream",
     "text": [
      "[master 1150fcf] My first commit\r\n",
      " 3 files changed, 454 insertions(+)\r\n",
      " create mode 100644 Dockerfile\r\n",
      " create mode 100644 First_Example_Dimuons.ipynb\r\n",
      " create mode 100644 data/Dimuons.root\r\n"
     ]
    }
   ],
   "source": [
    "git commit -a -m\"My first commit\""
   ]
  },
  {
   "cell_type": "markdown",
   "metadata": {},
   "source": [
    "## Upload Your Notebook to Github\n",
    "\n",
    "Now open a new terminal and execute a command:\n",
    "\n",
    "```bash\n",
    "cd sharing/hello-world\n",
    "git push origin master\n",
    "```\n",
    "You can check your files in http://github.com/username/repo-name\n",
    "\n",
    "\n",
    "## Executing Notebooks with Binder\n",
    "<img src=\"http://mybinder.org/images/logo.svg\"/>\n",
    "Binder is web-based platform that allows execution of Jupyter Notebooks online\n",
    "Please go to http://mybinder.org/\n",
    "\n",
    "* Provide your github repository.\n",
    "* Select a Dockerfile\n",
    "* Click make my binder.\n",
    "\n",
    "It can take a little while to complete, you can enjoy a coffee break while your binder is deployed."
   ]
  },
  {
   "cell_type": "code",
   "execution_count": null,
   "metadata": {
    "collapsed": true
   },
   "outputs": [],
   "source": []
  }
 ],
 "metadata": {
  "kernelspec": {
   "display_name": "Bash",
   "language": "bash",
   "name": "bash"
  },
  "language_info": {
   "codemirror_mode": "shell",
   "file_extension": ".sh",
   "mimetype": "text/x-sh",
   "name": "bash"
  }
 },
 "nbformat": 4,
 "nbformat_minor": 0
}
